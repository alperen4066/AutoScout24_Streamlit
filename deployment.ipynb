{
 "cells": [
  {
   "cell_type": "code",
   "execution_count": 10,
   "id": "a3b9ed5b-060c-49c1-b362-4d83ce79d3fd",
   "metadata": {},
   "outputs": [],
   "source": [
    "import pandas as pd      \n",
    "import numpy as np \n",
    "from sklearn.metrics import mean_squared_error, mean_absolute_error, r2_score\n",
    "from sklearn.model_selection import train_test_split\n",
    "from sklearn.linear_model import LinearRegression\n",
    "from sklearn.preprocessing import StandardScaler, MinMaxScaler, RobustScaler\n",
    "from sklearn.model_selection import GridSearchCV\n",
    "from sklearn.linear_model import Lasso, LassoCV\n",
    "import pickle"
   ]
  },
  {
   "cell_type": "code",
   "execution_count": 2,
   "id": "5315e7a4-1c90-413e-8ce3-3cb1a1853603",
   "metadata": {},
   "outputs": [
    {
     "data": {
      "text/html": [
       "<div>\n",
       "<style scoped>\n",
       "    .dataframe tbody tr th:only-of-type {\n",
       "        vertical-align: middle;\n",
       "    }\n",
       "\n",
       "    .dataframe tbody tr th {\n",
       "        vertical-align: top;\n",
       "    }\n",
       "\n",
       "    .dataframe thead th {\n",
       "        text-align: right;\n",
       "    }\n",
       "</style>\n",
       "<table border=\"1\" class=\"dataframe\">\n",
       "  <thead>\n",
       "    <tr style=\"text-align: right;\">\n",
       "      <th></th>\n",
       "      <th>hp_kW</th>\n",
       "      <th>km</th>\n",
       "      <th>age</th>\n",
       "      <th>price</th>\n",
       "      <th>make_model_Audi A1</th>\n",
       "      <th>make_model_Audi A3</th>\n",
       "      <th>make_model_Opel Astra</th>\n",
       "      <th>make_model_Opel Corsa</th>\n",
       "      <th>make_model_Opel Insignia</th>\n",
       "      <th>make_model_Renault Clio</th>\n",
       "      <th>make_model_Renault Duster</th>\n",
       "      <th>make_model_Renault Espace</th>\n",
       "      <th>Gearing_Type_Automatic</th>\n",
       "      <th>Gearing_Type_Manual</th>\n",
       "      <th>Gearing_Type_Semi-automatic</th>\n",
       "    </tr>\n",
       "  </thead>\n",
       "  <tbody>\n",
       "    <tr>\n",
       "      <th>0</th>\n",
       "      <td>66.0</td>\n",
       "      <td>56013.0</td>\n",
       "      <td>3.0</td>\n",
       "      <td>15770</td>\n",
       "      <td>1</td>\n",
       "      <td>0</td>\n",
       "      <td>0</td>\n",
       "      <td>0</td>\n",
       "      <td>0</td>\n",
       "      <td>0</td>\n",
       "      <td>0</td>\n",
       "      <td>0</td>\n",
       "      <td>1</td>\n",
       "      <td>0</td>\n",
       "      <td>0</td>\n",
       "    </tr>\n",
       "    <tr>\n",
       "      <th>1</th>\n",
       "      <td>141.0</td>\n",
       "      <td>80000.0</td>\n",
       "      <td>2.0</td>\n",
       "      <td>14500</td>\n",
       "      <td>1</td>\n",
       "      <td>0</td>\n",
       "      <td>0</td>\n",
       "      <td>0</td>\n",
       "      <td>0</td>\n",
       "      <td>0</td>\n",
       "      <td>0</td>\n",
       "      <td>0</td>\n",
       "      <td>1</td>\n",
       "      <td>0</td>\n",
       "      <td>0</td>\n",
       "    </tr>\n",
       "    <tr>\n",
       "      <th>2</th>\n",
       "      <td>85.0</td>\n",
       "      <td>83450.0</td>\n",
       "      <td>3.0</td>\n",
       "      <td>14640</td>\n",
       "      <td>1</td>\n",
       "      <td>0</td>\n",
       "      <td>0</td>\n",
       "      <td>0</td>\n",
       "      <td>0</td>\n",
       "      <td>0</td>\n",
       "      <td>0</td>\n",
       "      <td>0</td>\n",
       "      <td>1</td>\n",
       "      <td>0</td>\n",
       "      <td>0</td>\n",
       "    </tr>\n",
       "    <tr>\n",
       "      <th>3</th>\n",
       "      <td>66.0</td>\n",
       "      <td>73000.0</td>\n",
       "      <td>3.0</td>\n",
       "      <td>14500</td>\n",
       "      <td>1</td>\n",
       "      <td>0</td>\n",
       "      <td>0</td>\n",
       "      <td>0</td>\n",
       "      <td>0</td>\n",
       "      <td>0</td>\n",
       "      <td>0</td>\n",
       "      <td>0</td>\n",
       "      <td>1</td>\n",
       "      <td>0</td>\n",
       "      <td>0</td>\n",
       "    </tr>\n",
       "    <tr>\n",
       "      <th>4</th>\n",
       "      <td>66.0</td>\n",
       "      <td>16200.0</td>\n",
       "      <td>3.0</td>\n",
       "      <td>16790</td>\n",
       "      <td>1</td>\n",
       "      <td>0</td>\n",
       "      <td>0</td>\n",
       "      <td>0</td>\n",
       "      <td>0</td>\n",
       "      <td>0</td>\n",
       "      <td>0</td>\n",
       "      <td>0</td>\n",
       "      <td>1</td>\n",
       "      <td>0</td>\n",
       "      <td>0</td>\n",
       "    </tr>\n",
       "  </tbody>\n",
       "</table>\n",
       "</div>"
      ],
      "text/plain": [
       "   hp_kW       km  age  price  make_model_Audi A1  make_model_Audi A3  \\\n",
       "0   66.0  56013.0  3.0  15770                   1                   0   \n",
       "1  141.0  80000.0  2.0  14500                   1                   0   \n",
       "2   85.0  83450.0  3.0  14640                   1                   0   \n",
       "3   66.0  73000.0  3.0  14500                   1                   0   \n",
       "4   66.0  16200.0  3.0  16790                   1                   0   \n",
       "\n",
       "   make_model_Opel Astra  make_model_Opel Corsa  make_model_Opel Insignia  \\\n",
       "0                      0                      0                         0   \n",
       "1                      0                      0                         0   \n",
       "2                      0                      0                         0   \n",
       "3                      0                      0                         0   \n",
       "4                      0                      0                         0   \n",
       "\n",
       "   make_model_Renault Clio  make_model_Renault Duster  \\\n",
       "0                        0                          0   \n",
       "1                        0                          0   \n",
       "2                        0                          0   \n",
       "3                        0                          0   \n",
       "4                        0                          0   \n",
       "\n",
       "   make_model_Renault Espace  Gearing_Type_Automatic  Gearing_Type_Manual  \\\n",
       "0                          0                       1                    0   \n",
       "1                          0                       1                    0   \n",
       "2                          0                       1                    0   \n",
       "3                          0                       1                    0   \n",
       "4                          0                       1                    0   \n",
       "\n",
       "   Gearing_Type_Semi-automatic  \n",
       "0                            0  \n",
       "1                            0  \n",
       "2                            0  \n",
       "3                            0  \n",
       "4                            0  "
      ]
     },
     "execution_count": 2,
     "metadata": {},
     "output_type": "execute_result"
    }
   ],
   "source": [
    "df = pd.read_csv(\"new_file.csv\")\n",
    "df.head()"
   ]
  },
  {
   "cell_type": "code",
   "execution_count": 4,
   "id": "c3016a85-aded-4863-acc9-528d2e3d5175",
   "metadata": {},
   "outputs": [
    {
     "name": "stdout",
     "output_type": "stream",
     "text": [
      "<class 'pandas.core.frame.DataFrame'>\n",
      "RangeIndex: 15419 entries, 0 to 15418\n",
      "Data columns (total 15 columns):\n",
      " #   Column                       Non-Null Count  Dtype  \n",
      "---  ------                       --------------  -----  \n",
      " 0   hp_kW                        15419 non-null  float64\n",
      " 1   km                           15419 non-null  float64\n",
      " 2   age                          15419 non-null  float64\n",
      " 3   price                        15419 non-null  int64  \n",
      " 4   make_model_Audi A1           15419 non-null  int64  \n",
      " 5   make_model_Audi A3           15419 non-null  int64  \n",
      " 6   make_model_Opel Astra        15419 non-null  int64  \n",
      " 7   make_model_Opel Corsa        15419 non-null  int64  \n",
      " 8   make_model_Opel Insignia     15419 non-null  int64  \n",
      " 9   make_model_Renault Clio      15419 non-null  int64  \n",
      " 10  make_model_Renault Duster    15419 non-null  int64  \n",
      " 11  make_model_Renault Espace    15419 non-null  int64  \n",
      " 12  Gearing_Type_Automatic       15419 non-null  int64  \n",
      " 13  Gearing_Type_Manual          15419 non-null  int64  \n",
      " 14  Gearing_Type_Semi-automatic  15419 non-null  int64  \n",
      "dtypes: float64(3), int64(12)\n",
      "memory usage: 1.8 MB\n"
     ]
    }
   ],
   "source": [
    "df.info()"
   ]
  },
  {
   "cell_type": "code",
   "execution_count": 12,
   "id": "3b44099e-cd07-4d11-bf88-5d6333e13308",
   "metadata": {},
   "outputs": [],
   "source": [
    "alpha_space = np.linspace(0.01, 100, 100)"
   ]
  },
  {
   "cell_type": "code",
   "execution_count": 13,
   "id": "9da92a61-a99d-4fb7-911e-913e31d7c12e",
   "metadata": {},
   "outputs": [],
   "source": [
    "X = df.drop(columns = [\"price\"])\n",
    "y= df.price\n",
    "X_train, X_test, y_train, y_test = train_test_split(X, y, test_size=0.2, random_state=101)\n",
    "final_scaler = MinMaxScaler()\n",
    "final_scaler.fit(X) \n",
    "X_scaled = final_scaler.transform(X)\n",
    "lasso_model = Lasso(random_state=42)\n",
    "\n",
    "param_grid = {'alpha':alpha_space}\n",
    "\n",
    "final_model = GridSearchCV(estimator=lasso_model,\n",
    "                          param_grid=param_grid,\n",
    "                          scoring='neg_root_mean_squared_error',\n",
    "                          cv=10,\n",
    "                          n_jobs = -1)\n",
    "final_model.fit(X_scaled,y)\n",
    "filename = 'my_model'\n",
    "pickle.dump(final_model, open(filename, 'wb'))"
   ]
  },
  {
   "cell_type": "code",
   "execution_count": 14,
   "id": "9fa8996a-ce50-423e-b35c-d2d24d267321",
   "metadata": {},
   "outputs": [],
   "source": [
    "my_dict = {\n",
    "    \"hp_kW\": 66,\n",
    "    \"age\": 2,\n",
    "    \"km\": 17000,\n",
    "    \"make_model\": 'Audi A3',\n",
    "    \"Gearing_Type\": \"Automatic\"\n",
    "}"
   ]
  },
  {
   "cell_type": "code",
   "execution_count": 15,
   "id": "4ee2f69f-9156-4d92-b7b8-b4b2632a5222",
   "metadata": {},
   "outputs": [
    {
     "data": {
      "text/html": [
       "<div>\n",
       "<style scoped>\n",
       "    .dataframe tbody tr th:only-of-type {\n",
       "        vertical-align: middle;\n",
       "    }\n",
       "\n",
       "    .dataframe tbody tr th {\n",
       "        vertical-align: top;\n",
       "    }\n",
       "\n",
       "    .dataframe thead th {\n",
       "        text-align: right;\n",
       "    }\n",
       "</style>\n",
       "<table border=\"1\" class=\"dataframe\">\n",
       "  <thead>\n",
       "    <tr style=\"text-align: right;\">\n",
       "      <th></th>\n",
       "      <th>hp_kW</th>\n",
       "      <th>age</th>\n",
       "      <th>km</th>\n",
       "      <th>make_model</th>\n",
       "      <th>Gearing_Type</th>\n",
       "    </tr>\n",
       "  </thead>\n",
       "  <tbody>\n",
       "    <tr>\n",
       "      <th>0</th>\n",
       "      <td>66</td>\n",
       "      <td>2</td>\n",
       "      <td>17000</td>\n",
       "      <td>Audi A3</td>\n",
       "      <td>Automatic</td>\n",
       "    </tr>\n",
       "  </tbody>\n",
       "</table>\n",
       "</div>"
      ],
      "text/plain": [
       "   hp_kW  age     km make_model Gearing_Type\n",
       "0     66    2  17000    Audi A3    Automatic"
      ]
     },
     "execution_count": 15,
     "metadata": {},
     "output_type": "execute_result"
    }
   ],
   "source": [
    "my_dict = pd.DataFrame([my_dict])\n",
    "my_dict"
   ]
  },
  {
   "cell_type": "code",
   "execution_count": 16,
   "id": "b2cb667a-4de7-42cf-a792-0b2198452e83",
   "metadata": {},
   "outputs": [
    {
     "data": {
      "text/html": [
       "<div>\n",
       "<style scoped>\n",
       "    .dataframe tbody tr th:only-of-type {\n",
       "        vertical-align: middle;\n",
       "    }\n",
       "\n",
       "    .dataframe tbody tr th {\n",
       "        vertical-align: top;\n",
       "    }\n",
       "\n",
       "    .dataframe thead th {\n",
       "        text-align: right;\n",
       "    }\n",
       "</style>\n",
       "<table border=\"1\" class=\"dataframe\">\n",
       "  <thead>\n",
       "    <tr style=\"text-align: right;\">\n",
       "      <th></th>\n",
       "      <th>hp_kW</th>\n",
       "      <th>age</th>\n",
       "      <th>km</th>\n",
       "      <th>make_model_Audi A3</th>\n",
       "      <th>Gearing_Type_Automatic</th>\n",
       "    </tr>\n",
       "  </thead>\n",
       "  <tbody>\n",
       "    <tr>\n",
       "      <th>0</th>\n",
       "      <td>66</td>\n",
       "      <td>2</td>\n",
       "      <td>17000</td>\n",
       "      <td>1</td>\n",
       "      <td>1</td>\n",
       "    </tr>\n",
       "  </tbody>\n",
       "</table>\n",
       "</div>"
      ],
      "text/plain": [
       "   hp_kW  age     km  make_model_Audi A3  Gearing_Type_Automatic\n",
       "0     66    2  17000                   1                       1"
      ]
     },
     "execution_count": 16,
     "metadata": {},
     "output_type": "execute_result"
    }
   ],
   "source": [
    "my_dict = pd.get_dummies(my_dict)\n",
    "my_dict"
   ]
  },
  {
   "cell_type": "code",
   "execution_count": 17,
   "id": "9a57fc35-3051-419d-aef4-0a090083f38a",
   "metadata": {},
   "outputs": [
    {
     "data": {
      "text/html": [
       "<div>\n",
       "<style scoped>\n",
       "    .dataframe tbody tr th:only-of-type {\n",
       "        vertical-align: middle;\n",
       "    }\n",
       "\n",
       "    .dataframe tbody tr th {\n",
       "        vertical-align: top;\n",
       "    }\n",
       "\n",
       "    .dataframe thead th {\n",
       "        text-align: right;\n",
       "    }\n",
       "</style>\n",
       "<table border=\"1\" class=\"dataframe\">\n",
       "  <thead>\n",
       "    <tr style=\"text-align: right;\">\n",
       "      <th></th>\n",
       "      <th>hp_kW</th>\n",
       "      <th>km</th>\n",
       "      <th>age</th>\n",
       "      <th>make_model_Audi A1</th>\n",
       "      <th>make_model_Audi A3</th>\n",
       "      <th>make_model_Opel Astra</th>\n",
       "      <th>make_model_Opel Corsa</th>\n",
       "      <th>make_model_Opel Insignia</th>\n",
       "      <th>make_model_Renault Clio</th>\n",
       "      <th>make_model_Renault Duster</th>\n",
       "      <th>make_model_Renault Espace</th>\n",
       "      <th>Gearing_Type_Automatic</th>\n",
       "      <th>Gearing_Type_Manual</th>\n",
       "      <th>Gearing_Type_Semi-automatic</th>\n",
       "    </tr>\n",
       "  </thead>\n",
       "  <tbody>\n",
       "    <tr>\n",
       "      <th>0</th>\n",
       "      <td>66</td>\n",
       "      <td>17000</td>\n",
       "      <td>2</td>\n",
       "      <td>0</td>\n",
       "      <td>1</td>\n",
       "      <td>0</td>\n",
       "      <td>0</td>\n",
       "      <td>0</td>\n",
       "      <td>0</td>\n",
       "      <td>0</td>\n",
       "      <td>0</td>\n",
       "      <td>1</td>\n",
       "      <td>0</td>\n",
       "      <td>0</td>\n",
       "    </tr>\n",
       "  </tbody>\n",
       "</table>\n",
       "</div>"
      ],
      "text/plain": [
       "   hp_kW     km  age  make_model_Audi A1  make_model_Audi A3  \\\n",
       "0     66  17000    2                   0                   1   \n",
       "\n",
       "   make_model_Opel Astra  make_model_Opel Corsa  make_model_Opel Insignia  \\\n",
       "0                      0                      0                         0   \n",
       "\n",
       "   make_model_Renault Clio  make_model_Renault Duster  \\\n",
       "0                        0                          0   \n",
       "\n",
       "   make_model_Renault Espace  Gearing_Type_Automatic  Gearing_Type_Manual  \\\n",
       "0                          0                       1                    0   \n",
       "\n",
       "   Gearing_Type_Semi-automatic  \n",
       "0                            0  "
      ]
     },
     "execution_count": 17,
     "metadata": {},
     "output_type": "execute_result"
    }
   ],
   "source": [
    "my_dict = my_dict.reindex(columns = X.columns, fill_value=0) # yeni sunacağımız veriyi modeldeki sütun düzenine göre ayarlıyoruz\n",
    "my_dict"
   ]
  },
  {
   "cell_type": "code",
   "execution_count": 18,
   "id": "6df627b2-5f8c-41f9-9819-a64aee3ab13b",
   "metadata": {},
   "outputs": [
    {
     "data": {
      "text/plain": [
       "array([[0.13065327, 0.05362776, 0.66666667, 0.        , 1.        ,\n",
       "        0.        , 0.        , 0.        , 0.        , 0.        ,\n",
       "        0.        , 1.        , 0.        , 0.        ]])"
      ]
     },
     "execution_count": 18,
     "metadata": {},
     "output_type": "execute_result"
    }
   ],
   "source": [
    "my_dict = final_scaler.transform(my_dict)  # yeni veriyi scaling ediyoruz\n",
    "my_dict"
   ]
  },
  {
   "cell_type": "code",
   "execution_count": 19,
   "id": "de28ba5b-bfcb-473c-9e21-a5f15faa9dba",
   "metadata": {},
   "outputs": [
    {
     "data": {
      "text/plain": [
       "array([19559.29001107])"
      ]
     },
     "execution_count": 19,
     "metadata": {},
     "output_type": "execute_result"
    }
   ],
   "source": [
    "final_model.predict(my_dict) # bu verilere sahip araba 19559$ eder"
   ]
  },
  {
   "cell_type": "code",
   "execution_count": 20,
   "id": "dcd956b0-6dc7-49d9-8373-374a46828c66",
   "metadata": {},
   "outputs": [
    {
     "data": {
      "text/plain": [
       "0    8521\n",
       "1    6898\n",
       "Name: Gearing_Type_Automatic, dtype: int64"
      ]
     },
     "execution_count": 20,
     "metadata": {},
     "output_type": "execute_result"
    }
   ],
   "source": [
    "df.Gearing_Type_Automatic.value_counts()"
   ]
  },
  {
   "cell_type": "code",
   "execution_count": 26,
   "id": "82e346f6-a35c-4cfe-87a3-7d8f2983791e",
   "metadata": {},
   "outputs": [
    {
     "data": {
      "text/plain": [
       "array([ 66., 141.,  85., ..., 118., 146., 118.])"
      ]
     },
     "execution_count": 26,
     "metadata": {},
     "output_type": "execute_result"
    }
   ],
   "source": [
    "df.hp_kW.values"
   ]
  },
  {
   "cell_type": "code",
   "execution_count": 27,
   "id": "204fb943-0bd8-488d-94a7-8f31afeac6f6",
   "metadata": {},
   "outputs": [
    {
     "data": {
      "text/plain": [
       "count    15419.000000\n",
       "mean        86.600039\n",
       "std         23.998609\n",
       "min         40.000000\n",
       "25%         66.000000\n",
       "50%         85.000000\n",
       "75%        100.000000\n",
       "max        239.000000\n",
       "Name: hp_kW, dtype: float64"
      ]
     },
     "execution_count": 27,
     "metadata": {},
     "output_type": "execute_result"
    }
   ],
   "source": [
    "df.hp_kW.describe()"
   ]
  },
  {
   "cell_type": "code",
   "execution_count": 28,
   "id": "e687dc62-e76a-4d51-a186-1464ed53ca30",
   "metadata": {},
   "outputs": [
    {
     "data": {
      "text/plain": [
       "count    15419.000000\n",
       "mean         1.428368\n",
       "std          1.115104\n",
       "min          0.000000\n",
       "25%          0.000000\n",
       "50%          1.000000\n",
       "75%          2.000000\n",
       "max          3.000000\n",
       "Name: age, dtype: float64"
      ]
     },
     "execution_count": 28,
     "metadata": {},
     "output_type": "execute_result"
    }
   ],
   "source": [
    "df.age.describe()"
   ]
  },
  {
   "cell_type": "code",
   "execution_count": 29,
   "id": "cfca7f76-0f17-4757-add4-afb840759986",
   "metadata": {},
   "outputs": [
    {
     "data": {
      "text/plain": [
       "count     15419.000000\n",
       "mean      32993.024205\n",
       "std       37191.085153\n",
       "min           0.000000\n",
       "25%        3034.000000\n",
       "50%       21379.000000\n",
       "75%       48310.000000\n",
       "max      317000.000000\n",
       "Name: km, dtype: float64"
      ]
     },
     "execution_count": 29,
     "metadata": {},
     "output_type": "execute_result"
    }
   ],
   "source": [
    "df.km.describe()"
   ]
  },
  {
   "cell_type": "code",
   "execution_count": 30,
   "id": "32ce2e60-0959-43de-99da-3ec9e6bab2f5",
   "metadata": {},
   "outputs": [],
   "source": [
    "my_dict = {\n",
    "    \"hp_kW\": 120,\n",
    "    \"age\": 1,\n",
    "    \"km\": 170000,\n",
    "    \"make_model\": 'Opel Insignia',\n",
    "    \"Gearing_Type\": \"Manual\"\n",
    "}"
   ]
  },
  {
   "cell_type": "code",
   "execution_count": 31,
   "id": "04f7a5a2-a49d-4c7e-9dd9-fa0dc026abb5",
   "metadata": {},
   "outputs": [
    {
     "data": {
      "text/html": [
       "<div>\n",
       "<style scoped>\n",
       "    .dataframe tbody tr th:only-of-type {\n",
       "        vertical-align: middle;\n",
       "    }\n",
       "\n",
       "    .dataframe tbody tr th {\n",
       "        vertical-align: top;\n",
       "    }\n",
       "\n",
       "    .dataframe thead th {\n",
       "        text-align: right;\n",
       "    }\n",
       "</style>\n",
       "<table border=\"1\" class=\"dataframe\">\n",
       "  <thead>\n",
       "    <tr style=\"text-align: right;\">\n",
       "      <th></th>\n",
       "      <th>hp_kW</th>\n",
       "      <th>age</th>\n",
       "      <th>km</th>\n",
       "      <th>make_model</th>\n",
       "      <th>Gearing_Type</th>\n",
       "    </tr>\n",
       "  </thead>\n",
       "  <tbody>\n",
       "    <tr>\n",
       "      <th>0</th>\n",
       "      <td>120</td>\n",
       "      <td>1</td>\n",
       "      <td>170000</td>\n",
       "      <td>Opel Insignia</td>\n",
       "      <td>Manual</td>\n",
       "    </tr>\n",
       "  </tbody>\n",
       "</table>\n",
       "</div>"
      ],
      "text/plain": [
       "   hp_kW  age      km     make_model Gearing_Type\n",
       "0    120    1  170000  Opel Insignia       Manual"
      ]
     },
     "execution_count": 31,
     "metadata": {},
     "output_type": "execute_result"
    }
   ],
   "source": [
    "my_dict = pd.DataFrame([my_dict])\n",
    "my_dict"
   ]
  },
  {
   "cell_type": "code",
   "execution_count": 32,
   "id": "42ff018c-f9a5-445f-bf32-66db5d8a5a42",
   "metadata": {},
   "outputs": [
    {
     "data": {
      "text/html": [
       "<div>\n",
       "<style scoped>\n",
       "    .dataframe tbody tr th:only-of-type {\n",
       "        vertical-align: middle;\n",
       "    }\n",
       "\n",
       "    .dataframe tbody tr th {\n",
       "        vertical-align: top;\n",
       "    }\n",
       "\n",
       "    .dataframe thead th {\n",
       "        text-align: right;\n",
       "    }\n",
       "</style>\n",
       "<table border=\"1\" class=\"dataframe\">\n",
       "  <thead>\n",
       "    <tr style=\"text-align: right;\">\n",
       "      <th></th>\n",
       "      <th>hp_kW</th>\n",
       "      <th>age</th>\n",
       "      <th>km</th>\n",
       "      <th>make_model_Opel Insignia</th>\n",
       "      <th>Gearing_Type_Manual</th>\n",
       "    </tr>\n",
       "  </thead>\n",
       "  <tbody>\n",
       "    <tr>\n",
       "      <th>0</th>\n",
       "      <td>120</td>\n",
       "      <td>1</td>\n",
       "      <td>170000</td>\n",
       "      <td>1</td>\n",
       "      <td>1</td>\n",
       "    </tr>\n",
       "  </tbody>\n",
       "</table>\n",
       "</div>"
      ],
      "text/plain": [
       "   hp_kW  age      km  make_model_Opel Insignia  Gearing_Type_Manual\n",
       "0    120    1  170000                         1                    1"
      ]
     },
     "execution_count": 32,
     "metadata": {},
     "output_type": "execute_result"
    }
   ],
   "source": [
    "my_dict = pd.get_dummies(my_dict)\n",
    "my_dict"
   ]
  },
  {
   "cell_type": "code",
   "execution_count": 33,
   "id": "cec2b7ac-7a63-4a70-b12f-0b72c3dfa953",
   "metadata": {},
   "outputs": [
    {
     "data": {
      "text/html": [
       "<div>\n",
       "<style scoped>\n",
       "    .dataframe tbody tr th:only-of-type {\n",
       "        vertical-align: middle;\n",
       "    }\n",
       "\n",
       "    .dataframe tbody tr th {\n",
       "        vertical-align: top;\n",
       "    }\n",
       "\n",
       "    .dataframe thead th {\n",
       "        text-align: right;\n",
       "    }\n",
       "</style>\n",
       "<table border=\"1\" class=\"dataframe\">\n",
       "  <thead>\n",
       "    <tr style=\"text-align: right;\">\n",
       "      <th></th>\n",
       "      <th>hp_kW</th>\n",
       "      <th>km</th>\n",
       "      <th>age</th>\n",
       "      <th>make_model_Audi A1</th>\n",
       "      <th>make_model_Audi A3</th>\n",
       "      <th>make_model_Opel Astra</th>\n",
       "      <th>make_model_Opel Corsa</th>\n",
       "      <th>make_model_Opel Insignia</th>\n",
       "      <th>make_model_Renault Clio</th>\n",
       "      <th>make_model_Renault Duster</th>\n",
       "      <th>make_model_Renault Espace</th>\n",
       "      <th>Gearing_Type_Automatic</th>\n",
       "      <th>Gearing_Type_Manual</th>\n",
       "      <th>Gearing_Type_Semi-automatic</th>\n",
       "    </tr>\n",
       "  </thead>\n",
       "  <tbody>\n",
       "    <tr>\n",
       "      <th>0</th>\n",
       "      <td>120</td>\n",
       "      <td>170000</td>\n",
       "      <td>1</td>\n",
       "      <td>0</td>\n",
       "      <td>0</td>\n",
       "      <td>0</td>\n",
       "      <td>0</td>\n",
       "      <td>1</td>\n",
       "      <td>0</td>\n",
       "      <td>0</td>\n",
       "      <td>0</td>\n",
       "      <td>0</td>\n",
       "      <td>1</td>\n",
       "      <td>0</td>\n",
       "    </tr>\n",
       "  </tbody>\n",
       "</table>\n",
       "</div>"
      ],
      "text/plain": [
       "   hp_kW      km  age  make_model_Audi A1  make_model_Audi A3  \\\n",
       "0    120  170000    1                   0                   0   \n",
       "\n",
       "   make_model_Opel Astra  make_model_Opel Corsa  make_model_Opel Insignia  \\\n",
       "0                      0                      0                         1   \n",
       "\n",
       "   make_model_Renault Clio  make_model_Renault Duster  \\\n",
       "0                        0                          0   \n",
       "\n",
       "   make_model_Renault Espace  Gearing_Type_Automatic  Gearing_Type_Manual  \\\n",
       "0                          0                       0                    1   \n",
       "\n",
       "   Gearing_Type_Semi-automatic  \n",
       "0                            0  "
      ]
     },
     "execution_count": 33,
     "metadata": {},
     "output_type": "execute_result"
    }
   ],
   "source": [
    "my_dict = my_dict.reindex(columns = X.columns, fill_value=0) # yeni sunacağımız veriyi modeldeki sütun düzenine göre ayarlıyoruz\n",
    "my_dict"
   ]
  },
  {
   "cell_type": "code",
   "execution_count": 34,
   "id": "e384ea99-53dc-472f-8861-9a4a3f0ab16a",
   "metadata": {},
   "outputs": [
    {
     "data": {
      "text/plain": [
       "array([[0.40201005, 0.5362776 , 0.33333333, 0.        , 0.        ,\n",
       "        0.        , 0.        , 1.        , 0.        , 0.        ,\n",
       "        0.        , 0.        , 1.        , 0.        ]])"
      ]
     },
     "execution_count": 34,
     "metadata": {},
     "output_type": "execute_result"
    }
   ],
   "source": [
    "my_dict = final_scaler.transform(my_dict)  # yeni veriyi scaling ediyoruz\n",
    "my_dict"
   ]
  },
  {
   "cell_type": "code",
   "execution_count": 35,
   "id": "a109965e-432f-4fa1-bfd4-dbdc8f003eb4",
   "metadata": {},
   "outputs": [
    {
     "data": {
      "text/plain": [
       "array([16408.269438])"
      ]
     },
     "execution_count": 35,
     "metadata": {},
     "output_type": "execute_result"
    }
   ],
   "source": [
    "final_model.predict(my_dict) # bu verilere sahip araba 19559$ eder"
   ]
  },
  {
   "cell_type": "code",
   "execution_count": 42,
   "id": "5c703ac9-fbad-4095-aedf-ba95b2ae6d85",
   "metadata": {},
   "outputs": [],
   "source": [
    "my_dict = {\n",
    "    \"hp_kW\": 85,\n",
    "    \"age\": 3,\n",
    "    \"km\": 125000,\n",
    "    \"make_model\": 'Renault Duster',\n",
    "    \"Gearing_Type\": \"Manual\"\n",
    "}"
   ]
  },
  {
   "cell_type": "code",
   "execution_count": 43,
   "id": "08b6baed-9a31-4a36-912c-6a4e7b240fc6",
   "metadata": {},
   "outputs": [
    {
     "data": {
      "text/html": [
       "<div>\n",
       "<style scoped>\n",
       "    .dataframe tbody tr th:only-of-type {\n",
       "        vertical-align: middle;\n",
       "    }\n",
       "\n",
       "    .dataframe tbody tr th {\n",
       "        vertical-align: top;\n",
       "    }\n",
       "\n",
       "    .dataframe thead th {\n",
       "        text-align: right;\n",
       "    }\n",
       "</style>\n",
       "<table border=\"1\" class=\"dataframe\">\n",
       "  <thead>\n",
       "    <tr style=\"text-align: right;\">\n",
       "      <th></th>\n",
       "      <th>hp_kW</th>\n",
       "      <th>age</th>\n",
       "      <th>km</th>\n",
       "      <th>make_model</th>\n",
       "      <th>Gearing_Type</th>\n",
       "    </tr>\n",
       "  </thead>\n",
       "  <tbody>\n",
       "    <tr>\n",
       "      <th>0</th>\n",
       "      <td>85</td>\n",
       "      <td>3</td>\n",
       "      <td>125000</td>\n",
       "      <td>Renault Duster</td>\n",
       "      <td>Manual</td>\n",
       "    </tr>\n",
       "  </tbody>\n",
       "</table>\n",
       "</div>"
      ],
      "text/plain": [
       "   hp_kW  age      km      make_model Gearing_Type\n",
       "0     85    3  125000  Renault Duster       Manual"
      ]
     },
     "execution_count": 43,
     "metadata": {},
     "output_type": "execute_result"
    }
   ],
   "source": [
    "my_dict = pd.DataFrame([my_dict])\n",
    "my_dict"
   ]
  },
  {
   "cell_type": "code",
   "execution_count": 44,
   "id": "a372966e-10eb-4478-bb80-b69e6d637196",
   "metadata": {},
   "outputs": [
    {
     "data": {
      "text/html": [
       "<div>\n",
       "<style scoped>\n",
       "    .dataframe tbody tr th:only-of-type {\n",
       "        vertical-align: middle;\n",
       "    }\n",
       "\n",
       "    .dataframe tbody tr th {\n",
       "        vertical-align: top;\n",
       "    }\n",
       "\n",
       "    .dataframe thead th {\n",
       "        text-align: right;\n",
       "    }\n",
       "</style>\n",
       "<table border=\"1\" class=\"dataframe\">\n",
       "  <thead>\n",
       "    <tr style=\"text-align: right;\">\n",
       "      <th></th>\n",
       "      <th>hp_kW</th>\n",
       "      <th>age</th>\n",
       "      <th>km</th>\n",
       "      <th>make_model_Renault Duster</th>\n",
       "      <th>Gearing_Type_Manual</th>\n",
       "    </tr>\n",
       "  </thead>\n",
       "  <tbody>\n",
       "    <tr>\n",
       "      <th>0</th>\n",
       "      <td>85</td>\n",
       "      <td>3</td>\n",
       "      <td>125000</td>\n",
       "      <td>1</td>\n",
       "      <td>1</td>\n",
       "    </tr>\n",
       "  </tbody>\n",
       "</table>\n",
       "</div>"
      ],
      "text/plain": [
       "   hp_kW  age      km  make_model_Renault Duster  Gearing_Type_Manual\n",
       "0     85    3  125000                          1                    1"
      ]
     },
     "execution_count": 44,
     "metadata": {},
     "output_type": "execute_result"
    }
   ],
   "source": [
    "my_dict = pd.get_dummies(my_dict)\n",
    "my_dict"
   ]
  },
  {
   "cell_type": "code",
   "execution_count": 45,
   "id": "9f840627-1698-4eda-99f2-88c876ef9ae8",
   "metadata": {},
   "outputs": [
    {
     "data": {
      "text/html": [
       "<div>\n",
       "<style scoped>\n",
       "    .dataframe tbody tr th:only-of-type {\n",
       "        vertical-align: middle;\n",
       "    }\n",
       "\n",
       "    .dataframe tbody tr th {\n",
       "        vertical-align: top;\n",
       "    }\n",
       "\n",
       "    .dataframe thead th {\n",
       "        text-align: right;\n",
       "    }\n",
       "</style>\n",
       "<table border=\"1\" class=\"dataframe\">\n",
       "  <thead>\n",
       "    <tr style=\"text-align: right;\">\n",
       "      <th></th>\n",
       "      <th>hp_kW</th>\n",
       "      <th>km</th>\n",
       "      <th>age</th>\n",
       "      <th>make_model_Audi A1</th>\n",
       "      <th>make_model_Audi A3</th>\n",
       "      <th>make_model_Opel Astra</th>\n",
       "      <th>make_model_Opel Corsa</th>\n",
       "      <th>make_model_Opel Insignia</th>\n",
       "      <th>make_model_Renault Clio</th>\n",
       "      <th>make_model_Renault Duster</th>\n",
       "      <th>make_model_Renault Espace</th>\n",
       "      <th>Gearing_Type_Automatic</th>\n",
       "      <th>Gearing_Type_Manual</th>\n",
       "      <th>Gearing_Type_Semi-automatic</th>\n",
       "    </tr>\n",
       "  </thead>\n",
       "  <tbody>\n",
       "    <tr>\n",
       "      <th>0</th>\n",
       "      <td>85</td>\n",
       "      <td>125000</td>\n",
       "      <td>3</td>\n",
       "      <td>0</td>\n",
       "      <td>0</td>\n",
       "      <td>0</td>\n",
       "      <td>0</td>\n",
       "      <td>0</td>\n",
       "      <td>0</td>\n",
       "      <td>1</td>\n",
       "      <td>0</td>\n",
       "      <td>0</td>\n",
       "      <td>1</td>\n",
       "      <td>0</td>\n",
       "    </tr>\n",
       "  </tbody>\n",
       "</table>\n",
       "</div>"
      ],
      "text/plain": [
       "   hp_kW      km  age  make_model_Audi A1  make_model_Audi A3  \\\n",
       "0     85  125000    3                   0                   0   \n",
       "\n",
       "   make_model_Opel Astra  make_model_Opel Corsa  make_model_Opel Insignia  \\\n",
       "0                      0                      0                         0   \n",
       "\n",
       "   make_model_Renault Clio  make_model_Renault Duster  \\\n",
       "0                        0                          1   \n",
       "\n",
       "   make_model_Renault Espace  Gearing_Type_Automatic  Gearing_Type_Manual  \\\n",
       "0                          0                       0                    1   \n",
       "\n",
       "   Gearing_Type_Semi-automatic  \n",
       "0                            0  "
      ]
     },
     "execution_count": 45,
     "metadata": {},
     "output_type": "execute_result"
    }
   ],
   "source": [
    "my_dict = my_dict.reindex(columns = X.columns, fill_value=0) # yeni sunacağımız veriyi modeldeki sütun düzenine göre ayarlıyoruz\n",
    "my_dict"
   ]
  },
  {
   "cell_type": "code",
   "execution_count": 46,
   "id": "cebcc557-b1e2-4919-aaed-a26ab7cb60aa",
   "metadata": {},
   "outputs": [
    {
     "data": {
      "text/plain": [
       "array([[0.22613065, 0.39432177, 1.        , 0.        , 0.        ,\n",
       "        0.        , 0.        , 0.        , 0.        , 1.        ,\n",
       "        0.        , 0.        , 1.        , 0.        ]])"
      ]
     },
     "execution_count": 46,
     "metadata": {},
     "output_type": "execute_result"
    }
   ],
   "source": [
    "my_dict = final_scaler.transform(my_dict)  # yeni veriyi scaling ediyoruz\n",
    "my_dict"
   ]
  },
  {
   "cell_type": "code",
   "execution_count": 47,
   "id": "f09d2854-dfaa-4ff7-943b-c8e907f4eaa0",
   "metadata": {},
   "outputs": [
    {
     "data": {
      "text/plain": [
       "array([3578.81688596])"
      ]
     },
     "execution_count": 47,
     "metadata": {},
     "output_type": "execute_result"
    }
   ],
   "source": [
    "final_model.predict(my_dict) # bu verilere sahip araba 19559$ eder"
   ]
  },
  {
   "cell_type": "code",
   "execution_count": null,
   "id": "41595881-7622-41c1-8dc9-ccc171ac7933",
   "metadata": {},
   "outputs": [],
   "source": []
  }
 ],
 "metadata": {
  "kernelspec": {
   "display_name": "Python 3 (ipykernel)",
   "language": "python",
   "name": "python3"
  },
  "language_info": {
   "codemirror_mode": {
    "name": "ipython",
    "version": 3
   },
   "file_extension": ".py",
   "mimetype": "text/x-python",
   "name": "python",
   "nbconvert_exporter": "python",
   "pygments_lexer": "ipython3",
   "version": "3.10.4"
  }
 },
 "nbformat": 4,
 "nbformat_minor": 5
}
